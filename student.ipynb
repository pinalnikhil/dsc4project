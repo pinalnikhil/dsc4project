{
 "cells": [
  {
   "cell_type": "markdown",
   "metadata": {},
   "source": [
    "## Final Project Submission\n",
    "\n",
    "Please fill out:\n",
    "* Student name: \n",
    "* Student pace: self paced / part time / full time\n",
    "* Scheduled project review date/time: \n",
    "* Instructor name: \n",
    "* Blog post URL:\n"
   ]
  },
  {
   "cell_type": "code",
   "execution_count": null,
   "metadata": {},
   "outputs": [],
   "source": [
    "# Your code here - remember to use markdown cells for comments as well!"
   ]
  }
 ],
 "metadata": {
  "kernelspec": {
   "display_name": "Python 3",
   "language": "python",
   "name": "python3"
  },
  "language_info": {
   "codemirror_mode": {
    "name": "ipython",
    "version": 3
   },
   "file_extension": ".py",
   "mimetype": "text/x-python",
   "name": "python",
   "nbconvert_exporter": "python",
   "pygments_lexer": "ipython3",
   "version": "3.6.4"
  }
 },
 "nbformat": 4,
 "nbformat_minor": 2
}
## Final Project Submission

Please fill out:
* Student name: 
* Student pace: self paced / part time / full time
* Scheduled project review date/time: 
* Instructor name: 
* Blog post URL:


# Your code here - remember to use markdown cells for comments as well!
import pandas as pd
import numpy as np
import matplotlib.pyplot as plt
%matplotlib inline 
import time
import seaborn as sns
sns.set_style('white')


# gatting my first dataset,checking and describe the dataset 
df_1= pd.read_csv('zippedData/bom.movie_gross.csv.gz')
df_1.head(10)

df_1.describe()

df_1.shape

# gatting my second dataset,checking and describe the dataset 
df_2= pd.read_csv('zippedData/imdb.title.ratings.csv.gz')
df_2.head(10)

# gatting my third dataset
df_2.describe()

df_2.shape

# gatting my third dataset,checking and describe the dataset 
df_3= pd.read_csv('zippedData/imdb.title.basics.csv.gz')
df_3.head(10)

df_3.describe()

df_3.shape

# merge two dataset(df_2, df_3) togather and gatting new dataset
df_4= pd.merge(df_2, df_3, on= 'tconst', how= "outer")

df_4

df_4.describe()

df_4.shape

#To find null value in merge dataset df_4
df_4.isnull().sum()

#To find percentage of null values in the merged dataset
percentage_missing_valies_df= ((df_4.isnull().sum())/len(df_4))*100
percentage_missing_valies_df

#to remove the rows wich have null values in averagerating, numvotes, runtime_minutes and genres in df_4
df_4.dropna(inplace=True)
df_4.columns=df_4.columns.str.title()
df_4

df_4.shape

df_4.isnull().sum()

df_4.describe()

Drama=df_4['Genres'].head()
Rating=df_4['Averagerating'].head()
fig= plt.figure(figsize =(10, 7))
plt.bar(Drama[0:10], Rating[0:10])
plt.show()

df_4.groupby('Original_Title').mean()['Averagerating'].sort_values(ascending=False).head()
df_4.groupby('Original_Title').count()['Averagerating'].sort_values(ascending=False).head()
Averagerating= pd.DataFrame(df_4.groupby('Original_Title').mean()['Averagerating'])
Averagerating['num of Averagerating'] = df_4.groupby('Original_Title').count()['Averagerating']
Averagerating.sort_values(by='Averagerating',ascending=False).head()


plt.figure(figsize=(10,6))
plt.hist(Averagerating['num of Averagerating'],bins=100)
plt.show()
sns.jointplot(x='Averagerating',y='num of Averagerating',data=Averagerating,alpha=0.9)

df_1.groupby('foreign_gross').mean()['year'].sort_values(ascending=False).head()
df_1.groupby('foreign_gross').count()['year'].sort_values(ascending=False).head()

year = pd.DataFrame(df_1.groupby('foreign_gross').mean()['year'])
year['num of year'] = df_1.groupby('foreign_gross').count()['year']
year.sort_values(by='year',ascending=False).head()

Gross=df_1['foreign_gross'].head(15)
Title=df_1['title'].head(15)
fig= plt.figure(figsize =(15, 7),)
plt.bar(Gross[0:],Title[0:],)
plt.show()

plt.figure(figsize=(15,8))
plt.hist(year['num of year'],bins=70)
plt.show()
sns.jointplot(x='year',y='foreign_gross',data=year,alpha=0.5)

#Creating Movie Recommendation

movie_rating_user= df_4.pivot_table(index='Start_Year',columns='Original_Title',values='Averagerating')
movie_rating_user.head()

Delirium_Averagerating= movie_rating_user['Delirium']
Delirium_Averagerating.head()

Delirium_Averagerating = movie_rating_user.corrwith(Delirium_Averagerating)
Delirium_Averagerating_corr = pd.DataFrame(Delirium_Averagerating, columns=['correlation'])
Delirium_Averagerating_corr.dropna(inplace=True)
Delirium_Averagerating_corr.head()

Delirium_Averagerating_corr.sort_values('correlation', ascending= False).head(5)

Delirium_Averagerating_corr= Delirium_Averagerating_corr.join(Averagerating['num of Averagerating'])
Delirium_Averagerating_corr.head()

Delirium_Averagerating_corr[Delirium_Averagerating_corr['num of Averagerating']<100].sort_values('correlation', ascending=False)



